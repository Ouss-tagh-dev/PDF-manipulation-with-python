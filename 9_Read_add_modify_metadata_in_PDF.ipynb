{
 "cells": [
  {
   "cell_type": "code",
   "execution_count": 4,
   "id": "5d4212eb",
   "metadata": {},
   "outputs": [],
   "source": [
    "#install essential libraries\n",
    "# use :  pip install PyPDF2"
   ]
  },
  {
   "cell_type": "code",
   "execution_count": 15,
   "id": "a0eefc93",
   "metadata": {},
   "outputs": [
    {
     "name": "stdout",
     "output_type": "stream",
     "text": [
      "Metadata added to out/metadata_added.pdf\n"
     ]
    }
   ],
   "source": [
    "# Add metadata to a PDF file (e.g. Title, Author, Ect...)\n",
    "import PyPDF2 as pdf\n",
    "\n",
    "def add_metadata(pdf_path, output_path, title, author):\n",
    "    pdf_reader = pdf.PdfReader(pdf_path)\n",
    "    pdf_writer = pdf.PdfWriter()\n",
    "\n",
    "    for page_num in range(len(pdf_reader.pages)):\n",
    "        pdf_writer.add_page(pdf_reader.pages[page_num])\n",
    "\n",
    "    metadata = {'/Title': title,'/Author': author}\n",
    "\n",
    "    pdf_writer.add_metadata(metadata)\n",
    "\n",
    "    with open(output_path, 'wb') as out:\n",
    "        pdf_writer.write(out)\n",
    "\n",
    "    print(f\"Metadata added to {output_path}\")\n",
    "\n",
    "# Example usage\n",
    "add_metadata('data/multiple_pages.pdf', 'out/metadata_added.pdf', 'Sample PDF', 'Oussama')\n"
   ]
  },
  {
   "cell_type": "code",
   "execution_count": 16,
   "id": "3089e645",
   "metadata": {},
   "outputs": [
    {
     "name": "stdout",
     "output_type": "stream",
     "text": [
      "Metadata of the PDF file:\n",
      "/Producer: PyPDF2\n",
      "/Title: Sample PDF\n",
      "/Author: Oussama\n"
     ]
    }
   ],
   "source": [
    "# Read metadata from a PDF file\n",
    "import PyPDF2 as pdf\n",
    "\n",
    "def read_metadata(pdf_path):\n",
    "    pdf_reader = pdf.PdfReader(pdf_path)\n",
    "    metadata = pdf_reader.metadata\n",
    "\n",
    "    print(\"Metadata of the PDF file:\")\n",
    "    for key, value in metadata.items():\n",
    "        print(f\"{key}: {value}\")\n",
    "\n",
    "#Example usage\n",
    "read_metadata('out/metadata_added.pdf')"
   ]
  }
 ],
 "metadata": {
  "kernelspec": {
   "display_name": "Python 3",
   "language": "python",
   "name": "python3"
  },
  "language_info": {
   "codemirror_mode": {
    "name": "ipython",
    "version": 3
   },
   "file_extension": ".py",
   "mimetype": "text/x-python",
   "name": "python",
   "nbconvert_exporter": "python",
   "pygments_lexer": "ipython3",
   "version": "3.10.5"
  }
 },
 "nbformat": 4,
 "nbformat_minor": 5
}
