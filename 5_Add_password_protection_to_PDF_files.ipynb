{
 "cells": [
  {
   "cell_type": "code",
   "execution_count": 1,
   "id": "ae7bcf1c",
   "metadata": {},
   "outputs": [],
   "source": [
    "#install essential libraries\n",
    "# use :  pip install pypdf2"
   ]
  },
  {
   "cell_type": "code",
   "execution_count": 5,
   "id": "64374e89",
   "metadata": {},
   "outputs": [
    {
     "name": "stdout",
     "output_type": "stream",
     "text": [
      "Password protection added to out/protected_page1.pdf\n"
     ]
    }
   ],
   "source": [
    "import PyPDF2 as pdf\n",
    "\n",
    "def add_password_to_pdf(input_pdf_path, output_pdf_path, password):\n",
    "    pdf_reader = pdf.PdfReader(input_pdf_path)\n",
    "    pdf_writer = pdf.PdfWriter()\n",
    "\n",
    "    for page_num in range(len(pdf_reader.pages)):\n",
    "        pdf_writer.add_page(pdf_reader.pages[page_num])\n",
    "    pdf_writer.encrypt(password)\n",
    "    with open(output_pdf_path, 'wb') as out:\n",
    "        pdf_writer.write(out)\n",
    "\n",
    "    print(f\"Password protection added to {output_pdf_path}\")\n",
    "\n",
    "# Example usage\n",
    "add_password_to_pdf('data/page1.pdf', 'out/protected_page1.pdf', 'ouss-tagh-dev')\n"
   ]
  }
 ],
 "metadata": {
  "kernelspec": {
   "display_name": "Python 3",
   "language": "python",
   "name": "python3"
  },
  "language_info": {
   "codemirror_mode": {
    "name": "ipython",
    "version": 3
   },
   "file_extension": ".py",
   "mimetype": "text/x-python",
   "name": "python",
   "nbconvert_exporter": "python",
   "pygments_lexer": "ipython3",
   "version": "3.10.5"
  }
 },
 "nbformat": 4,
 "nbformat_minor": 5
}
