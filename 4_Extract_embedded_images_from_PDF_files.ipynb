{
 "cells": [
  {
   "cell_type": "code",
   "execution_count": null,
   "id": "1218da04",
   "metadata": {},
   "outputs": [],
   "source": [
    "#install essential libraries\n",
    "# use :  pip install pymupdf"
   ]
  },
  {
   "cell_type": "code",
   "execution_count": 7,
   "id": "54b6b810",
   "metadata": {},
   "outputs": [],
   "source": [
    "import fitz # PyMuPDF\n",
    "\n",
    "def extract_images_from_pdf(pdf_path, output_folder):\n",
    "    pdf_document = fitz.open(pdf_path)\n",
    "    for page_number in range(len(pdf_document)):\n",
    "        page = pdf_document.load_page(page_number)\n",
    "        image_list = page.get_images(full=True)\n",
    "        for img_index, img in enumerate(image_list):\n",
    "            xref = img[0]\n",
    "            base_image = pdf_document.extract_image(xref)\n",
    "            image_bytes = base_image[\"image\"]\n",
    "            img_ext = base_image[\"ext\"]\n",
    "            image_filename = f\"{output_folder}/page_{page_number + 1}_img_{img_index + 1}.{img_ext}\"\n",
    "            with open(image_filename, \"wb\") as image_file:\n",
    "                image_file.write(image_bytes)\n",
    "    pdf_document.close()\n",
    "\n",
    "extract_images_from_pdf(\"data/multiple_pages.pdf\", \"out/output_images\")\n"
   ]
  }
 ],
 "metadata": {
  "kernelspec": {
   "display_name": "Python 3",
   "language": "python",
   "name": "python3"
  },
  "language_info": {
   "codemirror_mode": {
    "name": "ipython",
    "version": 3
   },
   "file_extension": ".py",
   "mimetype": "text/x-python",
   "name": "python",
   "nbconvert_exporter": "python",
   "pygments_lexer": "ipython3",
   "version": "3.10.5"
  }
 },
 "nbformat": 4,
 "nbformat_minor": 5
}
