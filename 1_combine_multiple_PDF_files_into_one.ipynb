{
 "cells": [
  {
   "cell_type": "code",
   "execution_count": 6,
   "id": "34ac8bd9",
   "metadata": {},
   "outputs": [],
   "source": [
    "#install essential libraries\n",
    "# use :  pip install PyPDF2\n"
   ]
  },
  {
   "cell_type": "code",
   "execution_count": 10,
   "id": "4ad4d55b",
   "metadata": {},
   "outputs": [
    {
     "name": "stdout",
     "output_type": "stream",
     "text": [
      "Combined 4 PDFs into ./data/combined_output.pdf\n"
     ]
    }
   ],
   "source": [
    "import PyPDF2 as pdf\n",
    "\n",
    "def combine_pdfs(pdf_list, output_pdf):\n",
    "    pdf_writer = pdf.PdfWriter()\n",
    "    for pdf_file in pdf_list:\n",
    "        pdf_reader = pdf.PdfReader(pdf_file)\n",
    "        for page_num in range(len(pdf_reader.pages)):\n",
    "            pdf_writer.add_page(pdf_reader.pages[page_num])\n",
    "    with open(output_pdf, 'wb') as out:\n",
    "        pdf_writer.write(out)\n",
    "    print(f\"Combined {len(pdf_list)} PDFs into {output_pdf}\")\n",
    "\n",
    "\n",
    "# Example usage\n",
    "combine_pdfs([\"./data/page1.pdf\", \"./data/page2.pdf\",\"./data/page3.pdf\",\"./data/page4.pdf\"], './data/combined_output.pdf')"
   ]
  }
 ],
 "metadata": {
  "kernelspec": {
   "display_name": "Python 3",
   "language": "python",
   "name": "python3"
  },
  "language_info": {
   "codemirror_mode": {
    "name": "ipython",
    "version": 3
   },
   "file_extension": ".py",
   "mimetype": "text/x-python",
   "name": "python",
   "nbconvert_exporter": "python",
   "pygments_lexer": "ipython3",
   "version": "3.10.5"
  }
 },
 "nbformat": 4,
 "nbformat_minor": 5
}
