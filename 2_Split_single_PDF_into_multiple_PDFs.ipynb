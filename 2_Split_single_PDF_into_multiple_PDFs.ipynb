{
 "cells": [
  {
   "cell_type": "code",
   "execution_count": 5,
   "id": "3765ef31",
   "metadata": {},
   "outputs": [
    {
     "name": "stdout",
     "output_type": "stream",
     "text": [
      "Saved page 1: out/page_1.pdf\n",
      "Saved page 2: out/page_2.pdf\n",
      "Saved page 3: out/page_3.pdf\n",
      "Saved page 4: out/page_4.pdf\n"
     ]
    }
   ],
   "source": [
    "import PyPDF2 as pdf\n",
    "\n",
    "# Function to split a PDF into multiple single-page PDFs\n",
    "def split_pdf(pdf_path  , output_dir):\n",
    "    pdf_reader = pdf.PdfReader(pdf_path)\n",
    "    for page_num in range(len(pdf_reader.pages)):\n",
    "        pdf_writer = pdf.PdfWriter()\n",
    "        pdf_writer.add_page(pdf_reader.pages[page_num])\n",
    "        \n",
    "        output_path = f\"{output_dir}/page_{page_num + 1}.pdf\"\n",
    "        with open(output_path, 'wb') as out:\n",
    "            pdf_writer.write(out)\n",
    "        print(f\"Saved page {page_num + 1}: {output_path}\")\n",
    "\n",
    "# Example usage\n",
    "split_pdf('data/multiple_pages.pdf', 'out')\n",
    "   "
   ]
  },
  {
   "cell_type": "code",
   "execution_count": null,
   "id": "d3d4a5f3",
   "metadata": {},
   "outputs": [],
   "source": []
  }
 ],
 "metadata": {
  "kernelspec": {
   "display_name": "Python 3",
   "language": "python",
   "name": "python3"
  },
  "language_info": {
   "codemirror_mode": {
    "name": "ipython",
    "version": 3
   },
   "file_extension": ".py",
   "mimetype": "text/x-python",
   "name": "python",
   "nbconvert_exporter": "python",
   "pygments_lexer": "ipython3",
   "version": "3.10.5"
  }
 },
 "nbformat": 4,
 "nbformat_minor": 5
}
