{
 "cells": [
  {
   "cell_type": "code",
   "execution_count": null,
   "id": "6ff04049",
   "metadata": {},
   "outputs": [],
   "source": [
    "#install essential libraries\n",
    "# use :  pip install PyPDF2"
   ]
  },
  {
   "cell_type": "code",
   "execution_count": 3,
   "id": "dbc64f63",
   "metadata": {},
   "outputs": [
    {
     "name": "stdout",
     "output_type": "stream",
     "text": [
      "PDF rotated by 90 degrees and saved to out/landscape_page1.pdf\n",
      "PDF rotated by 270 degrees and saved to out/portrait_page1.pdf\n"
     ]
    }
   ],
   "source": [
    "#Rotate page in the PDF (e.g. from portrait to landscape)\n",
    "\n",
    "import PyPDF2 as pdf\n",
    "\n",
    "def rotate_pdf(input_pdf_path, output_pdf_path, rotation):\n",
    "    pdf_reader = pdf.PdfReader(input_pdf_path)\n",
    "    pdf_writer = pdf.PdfWriter()\n",
    "\n",
    "    for page_num in range (len(pdf_reader.pages)):\n",
    "        page = pdf_reader.pages[page_num]\n",
    "        page.rotate(rotation)\n",
    "        pdf_writer.add_page(page)\n",
    "\n",
    "    with open(output_pdf_path, 'wb') as out:\n",
    "        pdf_writer.write(out)\n",
    "\n",
    "    print(f\"PDF rotated by {rotation} degrees and saved to {output_pdf_path}\")\n",
    "\n",
    "# Example usage\n",
    "rotate_pdf('data/page1.pdf', 'out/landscape_page1.pdf', 90)\n",
    "rotate_pdf('out/landscape_page1.pdf', 'out/portrait_page1.pdf', 270)\n",
    "\n"
   ]
  }
 ],
 "metadata": {
  "kernelspec": {
   "display_name": "Python 3",
   "language": "python",
   "name": "python3"
  },
  "language_info": {
   "codemirror_mode": {
    "name": "ipython",
    "version": 3
   },
   "file_extension": ".py",
   "mimetype": "text/x-python",
   "name": "python",
   "nbconvert_exporter": "python",
   "pygments_lexer": "ipython3",
   "version": "3.10.5"
  }
 },
 "nbformat": 4,
 "nbformat_minor": 5
}
