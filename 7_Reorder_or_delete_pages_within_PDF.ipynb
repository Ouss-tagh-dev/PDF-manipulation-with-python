{
 "cells": [
  {
   "cell_type": "code",
   "execution_count": 6,
   "id": "790a71b1",
   "metadata": {},
   "outputs": [
    {
     "name": "stdout",
     "output_type": "stream",
     "text": [
      "Rearranged PDF saved as out/rearranged.pdf\n",
      "Rearranged PDF saved as out/rearranged_remove.pdf\n"
     ]
    }
   ],
   "source": [
    "import PyPDF2 as pdf\n",
    "\n",
    "def rearrange_pdf(input_pdf_path, output_pdf_path, page_order):\n",
    "    pdf_reader = pdf.PdfReader(input_pdf_path)\n",
    "    pdf_writer = pdf.PdfWriter()\n",
    "\n",
    "    for page_num in page_order:\n",
    "        pdf_writer.add_page(pdf_reader.pages[page_num])\n",
    "\n",
    "    with open(output_pdf_path, 'wb') as out:\n",
    "        pdf_writer.write(out)\n",
    "\n",
    "    print(f\"Rearranged PDF saved as {output_pdf_path}\")\n",
    "\n",
    "# Example usage\n",
    "rearrange_pdf('data/multiple_pages.pdf', 'out/rearranged.pdf', [2, 1, 3, 0])  # Rearranging pages in reverse order\n",
    "\n",
    "# Remove the page number 1\n",
    "rearrange_pdf('data/multiple_pages.pdf', 'out/rearranged_remove.pdf', [1,2,3])  "
   ]
  }
 ],
 "metadata": {
  "kernelspec": {
   "display_name": "Python 3",
   "language": "python",
   "name": "python3"
  },
  "language_info": {
   "codemirror_mode": {
    "name": "ipython",
    "version": 3
   },
   "file_extension": ".py",
   "mimetype": "text/x-python",
   "name": "python",
   "nbconvert_exporter": "python",
   "pygments_lexer": "ipython3",
   "version": "3.10.5"
  }
 },
 "nbformat": 4,
 "nbformat_minor": 5
}
