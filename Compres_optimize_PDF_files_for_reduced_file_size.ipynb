{
 "cells": [
  {
   "cell_type": "code",
   "execution_count": null,
   "id": "6cfee3a2",
   "metadata": {},
   "outputs": [],
   "source": [
    "# install essential libraries\n",
    "# use :  pip install pymupdf"
   ]
  },
  {
   "cell_type": "code",
   "execution_count": 1,
   "id": "00bdfb6a",
   "metadata": {},
   "outputs": [
    {
     "name": "stdout",
     "output_type": "stream",
     "text": [
      "Optimized PDF saved as: out/optimized.pdf\n"
     ]
    }
   ],
   "source": [
    "import fitz  # PyMuPDF\n",
    "def optimize_pdf(input_pdf_path, output_pdf_path):\n",
    "    pdf_document = fitz.open(input_pdf_path)\n",
    "    pdf_document.save(output_pdf_path, garbage=3, deflate=True)\n",
    "    print(f\"Optimized PDF saved as: {output_pdf_path}\")\n",
    "\n",
    "# Example usage\n",
    "optimize_pdf('data/multiple_pages.pdf', 'out/optimized.pdf')\n"
   ]
  }
 ],
 "metadata": {
  "kernelspec": {
   "display_name": "Python 3",
   "language": "python",
   "name": "python3"
  },
  "language_info": {
   "codemirror_mode": {
    "name": "ipython",
    "version": 3
   },
   "file_extension": ".py",
   "mimetype": "text/x-python",
   "name": "python",
   "nbconvert_exporter": "python",
   "pygments_lexer": "ipython3",
   "version": "3.10.5"
  }
 },
 "nbformat": 4,
 "nbformat_minor": 5
}
