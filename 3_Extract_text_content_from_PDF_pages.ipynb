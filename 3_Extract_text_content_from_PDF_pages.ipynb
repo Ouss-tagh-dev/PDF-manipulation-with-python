{
 "cells": [
  {
   "cell_type": "code",
   "execution_count": 2,
   "id": "673228ff",
   "metadata": {},
   "outputs": [],
   "source": [
    "#install essential libraries\n",
    "# use :  pip install pdfplumber\n"
   ]
  },
  {
   "cell_type": "code",
   "execution_count": 6,
   "id": "daa3f6a3",
   "metadata": {},
   "outputs": [
    {
     "name": "stdout",
     "output_type": "stream",
     "text": [
      "Text extracted and saved to out/output.txt\n"
     ]
    }
   ],
   "source": [
    "import pdfplumber\n",
    "\n",
    "def extract_text_from_pdf(pdf_path,out_text_path):\n",
    "    with pdfplumber.open(pdf_path) as pdf:\n",
    "        full_text = ''\n",
    "        for page in pdf.pages:\n",
    "            full_text += page.extract_text() + '\\n'\n",
    "        with open(out_text_path, 'w', encoding='utf-8') as f:\n",
    "            f.write(full_text)\n",
    "    print(f\"Text extracted and saved to {out_text_path}\")\n",
    "\n",
    "\n",
    "# Example usage\n",
    "extract_text_from_pdf('./data/multiple_pages.pdf', 'out/output.txt')"
   ]
  }
 ],
 "metadata": {
  "kernelspec": {
   "display_name": "Python 3",
   "language": "python",
   "name": "python3"
  },
  "language_info": {
   "codemirror_mode": {
    "name": "ipython",
    "version": 3
   },
   "file_extension": ".py",
   "mimetype": "text/x-python",
   "name": "python",
   "nbconvert_exporter": "python",
   "pygments_lexer": "ipython3",
   "version": "3.10.5"
  }
 },
 "nbformat": 4,
 "nbformat_minor": 5
}
