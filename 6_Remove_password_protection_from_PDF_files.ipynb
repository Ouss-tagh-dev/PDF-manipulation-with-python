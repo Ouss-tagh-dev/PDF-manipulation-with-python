{
 "cells": [
  {
   "cell_type": "code",
   "execution_count": 3,
   "id": "c1e6e47a",
   "metadata": {},
   "outputs": [
    {
     "name": "stdout",
     "output_type": "stream",
     "text": [
      "Password protection removed from data/protected_page1.pdf and saved to out/unprotected.pdf\n"
     ]
    }
   ],
   "source": [
    "import PyPDF2 as pdf\n",
    "\n",
    "def remove_password_protection(input_pdf, output_pdf, password):\n",
    "    pdf_reader = pdf.PdfReader(input_pdf)\n",
    "    pdf_reader.decrypt(password)\n",
    "    if not pdf_reader.decrypt(password):\n",
    "        print(\"Mot de passe incorrect. Impossible de déverrouiller le PDF.\")\n",
    "        return\n",
    "    pdf_writer = pdf.PdfWriter()\n",
    "\n",
    "    for page_num in range(len(pdf_reader.pages)):\n",
    "        pdf_writer.add_page(pdf_reader.pages[page_num])\n",
    "    \n",
    "    with open(output_pdf, 'wb') as out:\n",
    "        pdf_writer.write(out)\n",
    "\n",
    "    print(f\"Password protection removed from {input_pdf} and saved to {output_pdf}\")\n",
    "\n",
    "\n",
    "# Example usage\n",
    "remove_password_protection('data/protected_page1.pdf', 'out/unprotected.pdf', 'ouss-tagh-dev')"
   ]
  }
 ],
 "metadata": {
  "kernelspec": {
   "display_name": "Python 3",
   "language": "python",
   "name": "python3"
  },
  "language_info": {
   "codemirror_mode": {
    "name": "ipython",
    "version": 3
   },
   "file_extension": ".py",
   "mimetype": "text/x-python",
   "name": "python",
   "nbconvert_exporter": "python",
   "pygments_lexer": "ipython3",
   "version": "3.10.5"
  }
 },
 "nbformat": 4,
 "nbformat_minor": 5
}
